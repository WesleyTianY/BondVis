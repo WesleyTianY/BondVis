{
 "cells": [
  {
   "cell_type": "code",
   "execution_count": 1,
   "metadata": {},
   "outputs": [
    {
     "ename": "FileNotFoundError",
     "evalue": "[Errno 2] No such file or directory: 'broker_2024-09-09.csv'",
     "output_type": "error",
     "traceback": [
      "\u001b[0;31m---------------------------------------------------------------------------\u001b[0m",
      "\u001b[0;31mFileNotFoundError\u001b[0m                         Traceback (most recent call last)",
      "Cell \u001b[0;32mIn[1], line 7\u001b[0m\n\u001b[1;32m      4\u001b[0m \u001b[38;5;28;01mfrom\u001b[39;00m \u001b[38;5;21;01mmatplotlib\u001b[39;00m\u001b[38;5;21;01m.\u001b[39;00m\u001b[38;5;21;01mdates\u001b[39;00m \u001b[38;5;28;01mimport\u001b[39;00m DateFormatter\n\u001b[1;32m      6\u001b[0m \u001b[38;5;66;03m# 读取数据\u001b[39;00m\n\u001b[0;32m----> 7\u001b[0m data1 \u001b[38;5;241m=\u001b[39m \u001b[43mpd\u001b[49m\u001b[38;5;241;43m.\u001b[39;49m\u001b[43mread_csv\u001b[49m\u001b[43m(\u001b[49m\u001b[38;5;124;43m'\u001b[39;49m\u001b[38;5;124;43mbroker_2024-09-09.csv\u001b[39;49m\u001b[38;5;124;43m'\u001b[39;49m\u001b[43m)\u001b[49m\n\u001b[1;32m      8\u001b[0m data2 \u001b[38;5;241m=\u001b[39m pd\u001b[38;5;241m.\u001b[39mread_csv(\u001b[38;5;124m'\u001b[39m\u001b[38;5;124mtransaction_2024-09-09.csv\u001b[39m\u001b[38;5;124m'\u001b[39m)\n\u001b[1;32m     10\u001b[0m \u001b[38;5;66;03m# 过滤特定债券数据和转换日期格式\u001b[39;00m\n",
      "File \u001b[0;32m~/miniconda3/lib/python3.9/site-packages/pandas/util/_decorators.py:311\u001b[0m, in \u001b[0;36mdeprecate_nonkeyword_arguments.<locals>.decorate.<locals>.wrapper\u001b[0;34m(*args, **kwargs)\u001b[0m\n\u001b[1;32m    305\u001b[0m \u001b[38;5;28;01mif\u001b[39;00m \u001b[38;5;28mlen\u001b[39m(args) \u001b[38;5;241m>\u001b[39m num_allow_args:\n\u001b[1;32m    306\u001b[0m     warnings\u001b[38;5;241m.\u001b[39mwarn(\n\u001b[1;32m    307\u001b[0m         msg\u001b[38;5;241m.\u001b[39mformat(arguments\u001b[38;5;241m=\u001b[39marguments),\n\u001b[1;32m    308\u001b[0m         \u001b[38;5;167;01mFutureWarning\u001b[39;00m,\n\u001b[1;32m    309\u001b[0m         stacklevel\u001b[38;5;241m=\u001b[39mstacklevel,\n\u001b[1;32m    310\u001b[0m     )\n\u001b[0;32m--> 311\u001b[0m \u001b[38;5;28;01mreturn\u001b[39;00m \u001b[43mfunc\u001b[49m\u001b[43m(\u001b[49m\u001b[38;5;241;43m*\u001b[39;49m\u001b[43margs\u001b[49m\u001b[43m,\u001b[49m\u001b[43m \u001b[49m\u001b[38;5;241;43m*\u001b[39;49m\u001b[38;5;241;43m*\u001b[39;49m\u001b[43mkwargs\u001b[49m\u001b[43m)\u001b[49m\n",
      "File \u001b[0;32m~/miniconda3/lib/python3.9/site-packages/pandas/io/parsers/readers.py:586\u001b[0m, in \u001b[0;36mread_csv\u001b[0;34m(filepath_or_buffer, sep, delimiter, header, names, index_col, usecols, squeeze, prefix, mangle_dupe_cols, dtype, engine, converters, true_values, false_values, skipinitialspace, skiprows, skipfooter, nrows, na_values, keep_default_na, na_filter, verbose, skip_blank_lines, parse_dates, infer_datetime_format, keep_date_col, date_parser, dayfirst, cache_dates, iterator, chunksize, compression, thousands, decimal, lineterminator, quotechar, quoting, doublequote, escapechar, comment, encoding, encoding_errors, dialect, error_bad_lines, warn_bad_lines, on_bad_lines, delim_whitespace, low_memory, memory_map, float_precision, storage_options)\u001b[0m\n\u001b[1;32m    571\u001b[0m kwds_defaults \u001b[38;5;241m=\u001b[39m _refine_defaults_read(\n\u001b[1;32m    572\u001b[0m     dialect,\n\u001b[1;32m    573\u001b[0m     delimiter,\n\u001b[0;32m   (...)\u001b[0m\n\u001b[1;32m    582\u001b[0m     defaults\u001b[38;5;241m=\u001b[39m{\u001b[38;5;124m\"\u001b[39m\u001b[38;5;124mdelimiter\u001b[39m\u001b[38;5;124m\"\u001b[39m: \u001b[38;5;124m\"\u001b[39m\u001b[38;5;124m,\u001b[39m\u001b[38;5;124m\"\u001b[39m},\n\u001b[1;32m    583\u001b[0m )\n\u001b[1;32m    584\u001b[0m kwds\u001b[38;5;241m.\u001b[39mupdate(kwds_defaults)\n\u001b[0;32m--> 586\u001b[0m \u001b[38;5;28;01mreturn\u001b[39;00m \u001b[43m_read\u001b[49m\u001b[43m(\u001b[49m\u001b[43mfilepath_or_buffer\u001b[49m\u001b[43m,\u001b[49m\u001b[43m \u001b[49m\u001b[43mkwds\u001b[49m\u001b[43m)\u001b[49m\n",
      "File \u001b[0;32m~/miniconda3/lib/python3.9/site-packages/pandas/io/parsers/readers.py:482\u001b[0m, in \u001b[0;36m_read\u001b[0;34m(filepath_or_buffer, kwds)\u001b[0m\n\u001b[1;32m    479\u001b[0m _validate_names(kwds\u001b[38;5;241m.\u001b[39mget(\u001b[38;5;124m\"\u001b[39m\u001b[38;5;124mnames\u001b[39m\u001b[38;5;124m\"\u001b[39m, \u001b[38;5;28;01mNone\u001b[39;00m))\n\u001b[1;32m    481\u001b[0m \u001b[38;5;66;03m# Create the parser.\u001b[39;00m\n\u001b[0;32m--> 482\u001b[0m parser \u001b[38;5;241m=\u001b[39m \u001b[43mTextFileReader\u001b[49m\u001b[43m(\u001b[49m\u001b[43mfilepath_or_buffer\u001b[49m\u001b[43m,\u001b[49m\u001b[43m \u001b[49m\u001b[38;5;241;43m*\u001b[39;49m\u001b[38;5;241;43m*\u001b[39;49m\u001b[43mkwds\u001b[49m\u001b[43m)\u001b[49m\n\u001b[1;32m    484\u001b[0m \u001b[38;5;28;01mif\u001b[39;00m chunksize \u001b[38;5;129;01mor\u001b[39;00m iterator:\n\u001b[1;32m    485\u001b[0m     \u001b[38;5;28;01mreturn\u001b[39;00m parser\n",
      "File \u001b[0;32m~/miniconda3/lib/python3.9/site-packages/pandas/io/parsers/readers.py:811\u001b[0m, in \u001b[0;36mTextFileReader.__init__\u001b[0;34m(self, f, engine, **kwds)\u001b[0m\n\u001b[1;32m    808\u001b[0m \u001b[38;5;28;01mif\u001b[39;00m \u001b[38;5;124m\"\u001b[39m\u001b[38;5;124mhas_index_names\u001b[39m\u001b[38;5;124m\"\u001b[39m \u001b[38;5;129;01min\u001b[39;00m kwds:\n\u001b[1;32m    809\u001b[0m     \u001b[38;5;28mself\u001b[39m\u001b[38;5;241m.\u001b[39moptions[\u001b[38;5;124m\"\u001b[39m\u001b[38;5;124mhas_index_names\u001b[39m\u001b[38;5;124m\"\u001b[39m] \u001b[38;5;241m=\u001b[39m kwds[\u001b[38;5;124m\"\u001b[39m\u001b[38;5;124mhas_index_names\u001b[39m\u001b[38;5;124m\"\u001b[39m]\n\u001b[0;32m--> 811\u001b[0m \u001b[38;5;28mself\u001b[39m\u001b[38;5;241m.\u001b[39m_engine \u001b[38;5;241m=\u001b[39m \u001b[38;5;28;43mself\u001b[39;49m\u001b[38;5;241;43m.\u001b[39;49m\u001b[43m_make_engine\u001b[49m\u001b[43m(\u001b[49m\u001b[38;5;28;43mself\u001b[39;49m\u001b[38;5;241;43m.\u001b[39;49m\u001b[43mengine\u001b[49m\u001b[43m)\u001b[49m\n",
      "File \u001b[0;32m~/miniconda3/lib/python3.9/site-packages/pandas/io/parsers/readers.py:1040\u001b[0m, in \u001b[0;36mTextFileReader._make_engine\u001b[0;34m(self, engine)\u001b[0m\n\u001b[1;32m   1036\u001b[0m     \u001b[38;5;28;01mraise\u001b[39;00m \u001b[38;5;167;01mValueError\u001b[39;00m(\n\u001b[1;32m   1037\u001b[0m         \u001b[38;5;124mf\u001b[39m\u001b[38;5;124m\"\u001b[39m\u001b[38;5;124mUnknown engine: \u001b[39m\u001b[38;5;132;01m{\u001b[39;00mengine\u001b[38;5;132;01m}\u001b[39;00m\u001b[38;5;124m (valid options are \u001b[39m\u001b[38;5;132;01m{\u001b[39;00mmapping\u001b[38;5;241m.\u001b[39mkeys()\u001b[38;5;132;01m}\u001b[39;00m\u001b[38;5;124m)\u001b[39m\u001b[38;5;124m\"\u001b[39m\n\u001b[1;32m   1038\u001b[0m     )\n\u001b[1;32m   1039\u001b[0m \u001b[38;5;66;03m# error: Too many arguments for \"ParserBase\"\u001b[39;00m\n\u001b[0;32m-> 1040\u001b[0m \u001b[38;5;28;01mreturn\u001b[39;00m \u001b[43mmapping\u001b[49m\u001b[43m[\u001b[49m\u001b[43mengine\u001b[49m\u001b[43m]\u001b[49m\u001b[43m(\u001b[49m\u001b[38;5;28;43mself\u001b[39;49m\u001b[38;5;241;43m.\u001b[39;49m\u001b[43mf\u001b[49m\u001b[43m,\u001b[49m\u001b[43m \u001b[49m\u001b[38;5;241;43m*\u001b[39;49m\u001b[38;5;241;43m*\u001b[39;49m\u001b[38;5;28;43mself\u001b[39;49m\u001b[38;5;241;43m.\u001b[39;49m\u001b[43moptions\u001b[49m\u001b[43m)\u001b[49m\n",
      "File \u001b[0;32m~/miniconda3/lib/python3.9/site-packages/pandas/io/parsers/c_parser_wrapper.py:51\u001b[0m, in \u001b[0;36mCParserWrapper.__init__\u001b[0;34m(self, src, **kwds)\u001b[0m\n\u001b[1;32m     48\u001b[0m kwds[\u001b[38;5;124m\"\u001b[39m\u001b[38;5;124musecols\u001b[39m\u001b[38;5;124m\"\u001b[39m] \u001b[38;5;241m=\u001b[39m \u001b[38;5;28mself\u001b[39m\u001b[38;5;241m.\u001b[39musecols\n\u001b[1;32m     50\u001b[0m \u001b[38;5;66;03m# open handles\u001b[39;00m\n\u001b[0;32m---> 51\u001b[0m \u001b[38;5;28;43mself\u001b[39;49m\u001b[38;5;241;43m.\u001b[39;49m\u001b[43m_open_handles\u001b[49m\u001b[43m(\u001b[49m\u001b[43msrc\u001b[49m\u001b[43m,\u001b[49m\u001b[43m \u001b[49m\u001b[43mkwds\u001b[49m\u001b[43m)\u001b[49m\n\u001b[1;32m     52\u001b[0m \u001b[38;5;28;01massert\u001b[39;00m \u001b[38;5;28mself\u001b[39m\u001b[38;5;241m.\u001b[39mhandles \u001b[38;5;129;01mis\u001b[39;00m \u001b[38;5;129;01mnot\u001b[39;00m \u001b[38;5;28;01mNone\u001b[39;00m\n\u001b[1;32m     54\u001b[0m \u001b[38;5;66;03m# Have to pass int, would break tests using TextReader directly otherwise :(\u001b[39;00m\n",
      "File \u001b[0;32m~/miniconda3/lib/python3.9/site-packages/pandas/io/parsers/base_parser.py:222\u001b[0m, in \u001b[0;36mParserBase._open_handles\u001b[0;34m(self, src, kwds)\u001b[0m\n\u001b[1;32m    218\u001b[0m \u001b[38;5;28;01mdef\u001b[39;00m \u001b[38;5;21m_open_handles\u001b[39m(\u001b[38;5;28mself\u001b[39m, src: FilePathOrBuffer, kwds: \u001b[38;5;28mdict\u001b[39m[\u001b[38;5;28mstr\u001b[39m, Any]) \u001b[38;5;241m-\u001b[39m\u001b[38;5;241m>\u001b[39m \u001b[38;5;28;01mNone\u001b[39;00m:\n\u001b[1;32m    219\u001b[0m \u001b[38;5;250m    \u001b[39m\u001b[38;5;124;03m\"\"\"\u001b[39;00m\n\u001b[1;32m    220\u001b[0m \u001b[38;5;124;03m    Let the readers open IOHandles after they are done with their potential raises.\u001b[39;00m\n\u001b[1;32m    221\u001b[0m \u001b[38;5;124;03m    \"\"\"\u001b[39;00m\n\u001b[0;32m--> 222\u001b[0m     \u001b[38;5;28mself\u001b[39m\u001b[38;5;241m.\u001b[39mhandles \u001b[38;5;241m=\u001b[39m \u001b[43mget_handle\u001b[49m\u001b[43m(\u001b[49m\n\u001b[1;32m    223\u001b[0m \u001b[43m        \u001b[49m\u001b[43msrc\u001b[49m\u001b[43m,\u001b[49m\n\u001b[1;32m    224\u001b[0m \u001b[43m        \u001b[49m\u001b[38;5;124;43m\"\u001b[39;49m\u001b[38;5;124;43mr\u001b[39;49m\u001b[38;5;124;43m\"\u001b[39;49m\u001b[43m,\u001b[49m\n\u001b[1;32m    225\u001b[0m \u001b[43m        \u001b[49m\u001b[43mencoding\u001b[49m\u001b[38;5;241;43m=\u001b[39;49m\u001b[43mkwds\u001b[49m\u001b[38;5;241;43m.\u001b[39;49m\u001b[43mget\u001b[49m\u001b[43m(\u001b[49m\u001b[38;5;124;43m\"\u001b[39;49m\u001b[38;5;124;43mencoding\u001b[39;49m\u001b[38;5;124;43m\"\u001b[39;49m\u001b[43m,\u001b[49m\u001b[43m \u001b[49m\u001b[38;5;28;43;01mNone\u001b[39;49;00m\u001b[43m)\u001b[49m\u001b[43m,\u001b[49m\n\u001b[1;32m    226\u001b[0m \u001b[43m        \u001b[49m\u001b[43mcompression\u001b[49m\u001b[38;5;241;43m=\u001b[39;49m\u001b[43mkwds\u001b[49m\u001b[38;5;241;43m.\u001b[39;49m\u001b[43mget\u001b[49m\u001b[43m(\u001b[49m\u001b[38;5;124;43m\"\u001b[39;49m\u001b[38;5;124;43mcompression\u001b[39;49m\u001b[38;5;124;43m\"\u001b[39;49m\u001b[43m,\u001b[49m\u001b[43m \u001b[49m\u001b[38;5;28;43;01mNone\u001b[39;49;00m\u001b[43m)\u001b[49m\u001b[43m,\u001b[49m\n\u001b[1;32m    227\u001b[0m \u001b[43m        \u001b[49m\u001b[43mmemory_map\u001b[49m\u001b[38;5;241;43m=\u001b[39;49m\u001b[43mkwds\u001b[49m\u001b[38;5;241;43m.\u001b[39;49m\u001b[43mget\u001b[49m\u001b[43m(\u001b[49m\u001b[38;5;124;43m\"\u001b[39;49m\u001b[38;5;124;43mmemory_map\u001b[39;49m\u001b[38;5;124;43m\"\u001b[39;49m\u001b[43m,\u001b[49m\u001b[43m \u001b[49m\u001b[38;5;28;43;01mFalse\u001b[39;49;00m\u001b[43m)\u001b[49m\u001b[43m,\u001b[49m\n\u001b[1;32m    228\u001b[0m \u001b[43m        \u001b[49m\u001b[43mstorage_options\u001b[49m\u001b[38;5;241;43m=\u001b[39;49m\u001b[43mkwds\u001b[49m\u001b[38;5;241;43m.\u001b[39;49m\u001b[43mget\u001b[49m\u001b[43m(\u001b[49m\u001b[38;5;124;43m\"\u001b[39;49m\u001b[38;5;124;43mstorage_options\u001b[39;49m\u001b[38;5;124;43m\"\u001b[39;49m\u001b[43m,\u001b[49m\u001b[43m \u001b[49m\u001b[38;5;28;43;01mNone\u001b[39;49;00m\u001b[43m)\u001b[49m\u001b[43m,\u001b[49m\n\u001b[1;32m    229\u001b[0m \u001b[43m        \u001b[49m\u001b[43merrors\u001b[49m\u001b[38;5;241;43m=\u001b[39;49m\u001b[43mkwds\u001b[49m\u001b[38;5;241;43m.\u001b[39;49m\u001b[43mget\u001b[49m\u001b[43m(\u001b[49m\u001b[38;5;124;43m\"\u001b[39;49m\u001b[38;5;124;43mencoding_errors\u001b[39;49m\u001b[38;5;124;43m\"\u001b[39;49m\u001b[43m,\u001b[49m\u001b[43m \u001b[49m\u001b[38;5;124;43m\"\u001b[39;49m\u001b[38;5;124;43mstrict\u001b[39;49m\u001b[38;5;124;43m\"\u001b[39;49m\u001b[43m)\u001b[49m\u001b[43m,\u001b[49m\n\u001b[1;32m    230\u001b[0m \u001b[43m    \u001b[49m\u001b[43m)\u001b[49m\n",
      "File \u001b[0;32m~/miniconda3/lib/python3.9/site-packages/pandas/io/common.py:702\u001b[0m, in \u001b[0;36mget_handle\u001b[0;34m(path_or_buf, mode, encoding, compression, memory_map, is_text, errors, storage_options)\u001b[0m\n\u001b[1;32m    697\u001b[0m \u001b[38;5;28;01melif\u001b[39;00m \u001b[38;5;28misinstance\u001b[39m(handle, \u001b[38;5;28mstr\u001b[39m):\n\u001b[1;32m    698\u001b[0m     \u001b[38;5;66;03m# Check whether the filename is to be opened in binary mode.\u001b[39;00m\n\u001b[1;32m    699\u001b[0m     \u001b[38;5;66;03m# Binary mode does not support 'encoding' and 'newline'.\u001b[39;00m\n\u001b[1;32m    700\u001b[0m     \u001b[38;5;28;01mif\u001b[39;00m ioargs\u001b[38;5;241m.\u001b[39mencoding \u001b[38;5;129;01mand\u001b[39;00m \u001b[38;5;124m\"\u001b[39m\u001b[38;5;124mb\u001b[39m\u001b[38;5;124m\"\u001b[39m \u001b[38;5;129;01mnot\u001b[39;00m \u001b[38;5;129;01min\u001b[39;00m ioargs\u001b[38;5;241m.\u001b[39mmode:\n\u001b[1;32m    701\u001b[0m         \u001b[38;5;66;03m# Encoding\u001b[39;00m\n\u001b[0;32m--> 702\u001b[0m         handle \u001b[38;5;241m=\u001b[39m \u001b[38;5;28;43mopen\u001b[39;49m\u001b[43m(\u001b[49m\n\u001b[1;32m    703\u001b[0m \u001b[43m            \u001b[49m\u001b[43mhandle\u001b[49m\u001b[43m,\u001b[49m\n\u001b[1;32m    704\u001b[0m \u001b[43m            \u001b[49m\u001b[43mioargs\u001b[49m\u001b[38;5;241;43m.\u001b[39;49m\u001b[43mmode\u001b[49m\u001b[43m,\u001b[49m\n\u001b[1;32m    705\u001b[0m \u001b[43m            \u001b[49m\u001b[43mencoding\u001b[49m\u001b[38;5;241;43m=\u001b[39;49m\u001b[43mioargs\u001b[49m\u001b[38;5;241;43m.\u001b[39;49m\u001b[43mencoding\u001b[49m\u001b[43m,\u001b[49m\n\u001b[1;32m    706\u001b[0m \u001b[43m            \u001b[49m\u001b[43merrors\u001b[49m\u001b[38;5;241;43m=\u001b[39;49m\u001b[43merrors\u001b[49m\u001b[43m,\u001b[49m\n\u001b[1;32m    707\u001b[0m \u001b[43m            \u001b[49m\u001b[43mnewline\u001b[49m\u001b[38;5;241;43m=\u001b[39;49m\u001b[38;5;124;43m\"\u001b[39;49m\u001b[38;5;124;43m\"\u001b[39;49m\u001b[43m,\u001b[49m\n\u001b[1;32m    708\u001b[0m \u001b[43m        \u001b[49m\u001b[43m)\u001b[49m\n\u001b[1;32m    709\u001b[0m     \u001b[38;5;28;01melse\u001b[39;00m:\n\u001b[1;32m    710\u001b[0m         \u001b[38;5;66;03m# Binary mode\u001b[39;00m\n\u001b[1;32m    711\u001b[0m         handle \u001b[38;5;241m=\u001b[39m \u001b[38;5;28mopen\u001b[39m(handle, ioargs\u001b[38;5;241m.\u001b[39mmode)\n",
      "\u001b[0;31mFileNotFoundError\u001b[0m: [Errno 2] No such file or directory: 'broker_2024-09-09.csv'"
     ]
    }
   ],
   "source": [
    "import pandas as pd\n",
    "import numpy as np\n",
    "import matplotlib.pyplot as plt\n",
    "\n",
    "# 读取数据，假设你的数据在一个CSV文件中\n",
    "data = pd.read_csv('bond_dtl_10_08.csv')\n",
    "\n",
    "# 1. 过滤出特定债券的数据，比如 '24附息国债13'\n",
    "filtered_data = data[data['bnds_nm'] == '24附息国债13']\n",
    "\n",
    "# 2. 将 'dl_tm' 列转换为 datetime 类型以便排序\n",
    "filtered_data['dl_tm'] = pd.to_datetime(filtered_data['dl_tm'])\n",
    "filtered_data = filtered_data[filtered_data['dl_tm'].dt.date == pd.to_datetime('2024-10-08').date()]\n",
    "\n",
    "\n",
    "# 3. 计算 'dlt_prc' 列的均值和标准差\n",
    "mean_dlt_prc = filtered_data['yld_to_mrty'].mean()\n",
    "std_dlt_prc = filtered_data['yld_to_mrty'].std()\n",
    "\n",
    "# 4. 剔除偏离均值10个标准差之外的数据\n",
    "filtered_data = filtered_data[np.abs(filtered_data['yld_to_mrty'] - mean_dlt_prc) <= 10 * std_dlt_prc]\n",
    "\n",
    "# 5. 按照 'dl_tm' 列升序排序\n",
    "sorted_data = filtered_data.sort_values(by='dl_tm')\n",
    "\n",
    "# 6. 绘制时间和收益率（dlt_prc）的图表\n",
    "plt.figure(figsize=(10,6))\n",
    "plt.plot(sorted_data['dl_tm'], sorted_data['yld_to_mrty'], marker='o', linestyle='-', color='b')\n",
    "\n",
    "# 设置标题和标签\n",
    "plt.title('24附息国债13 收益率随时间变化（剔除10sigma之外的异常值）')\n",
    "plt.xlabel('时间')\n",
    "plt.ylabel('收益率')\n",
    "\n",
    "# 显示图表\n",
    "plt.xticks(rotation=45)  # 旋转X轴上的时间刻度，以便更好地显示\n",
    "plt.tight_layout()  # 自动调整布局避免标签重叠\n",
    "plt.show()\n"
   ]
  },
  {
   "cell_type": "code",
   "execution_count": 11,
   "metadata": {},
   "outputs": [
    {
     "name": "stderr",
     "output_type": "stream",
     "text": [
      "/Users/dennis/miniconda3/lib/python3.9/site-packages/IPython/core/interactiveshell.py:3505: DtypeWarning: Columns (19,49,143,144,145,146,147,148,149) have mixed types.Specify dtype option on import or set low_memory=False.\n",
      "  exec(code_obj, self.user_global_ns, self.user_ns)\n"
     ]
    },
    {
     "name": "stdout",
     "output_type": "stream",
     "text": [
      "                     Column  MissingCount  MissingPercentage\n",
      "0                Unnamed: 0             0                0.0\n",
      "1                     dl_cd             0                0.0\n",
      "52              slr_trdr_nm             0                0.0\n",
      "51              slr_trdr_cd             0                0.0\n",
      "50  byr_trd_acnt_en_full_nm             0                0.0\n",
      "..                      ...           ...                ...\n",
      "23               clrng_mthd             0                0.0\n",
      "22           stlmnt_mthd_nm             0                0.0\n",
      "21              stlmnt_amnt             0                0.0\n",
      "20                  all_prc             0                0.0\n",
      "71               pips_trd_f             0                0.0\n",
      "\n",
      "[72 rows x 3 columns]\n"
     ]
    }
   ],
   "source": [
    "import pandas as pd\n",
    "import numpy as np\n",
    "import matplotlib.pyplot as plt\n",
    "\n",
    "# 读取数据，假设你的数据在一个CSV文件中\n",
    "data = pd.read_csv('bond_dtl_10_08.csv')\n",
    "\n",
    "# 计算缺失值比例\n",
    "missing_ratio = data.isnull().mean()\n",
    "\n",
    "# 剔除缺失值超过 95% 的列\n",
    "data = data.loc[:, missing_ratio <= 0.000001]\n",
    "\n",
    "# 缺失值统计\n",
    "missing_summary = data.isnull().sum().reset_index()\n",
    "missing_summary.columns = ['Column', 'MissingCount']\n",
    "missing_summary['MissingPercentage'] = (missing_summary['MissingCount'] / len(data)) * 100\n",
    "\n",
    "# 打印缺失情况\n",
    "print(missing_summary.sort_values(by='MissingCount', ascending=False))\n"
   ]
  },
  {
   "cell_type": "code",
   "execution_count": 15,
   "metadata": {},
   "outputs": [
    {
     "data": {
      "text/plain": [
       "['Unnamed: 0',\n",
       " 'dl_cd',\n",
       " 'txn_dt',\n",
       " 'dl_tm',\n",
       " 'bsns_tm',\n",
       " 'prdct_cd',\n",
       " 'trdng_md_cd',\n",
       " 'trdng_mthd_cd',\n",
       " 'chnl_tp',\n",
       " 'chnl',\n",
       " 'prmrkt_bond_f',\n",
       " 'qt_src',\n",
       " 'dl_st',\n",
       " 'cntngncy_indctr',\n",
       " 'bond_cd',\n",
       " 'bnds_nm',\n",
       " 'net_prc',\n",
       " 'nmnl_vol',\n",
       " 'amnt',\n",
       " 'stlmnt_spd_nm',\n",
       " 'all_prc',\n",
       " 'stlmnt_amnt',\n",
       " 'stlmnt_mthd_nm',\n",
       " 'clrng_mthd',\n",
       " 'stlmnt_dt',\n",
       " 'splmnt_term_indctr',\n",
       " 'cash_bond_f',\n",
       " 'stlmnt_ccy',\n",
       " 'bond_ccy',\n",
       " 'mkt_scp',\n",
       " 'dl_tp',\n",
       " 'byr_instn_cd',\n",
       " 'byr_cfets_instn_cd',\n",
       " 'byr_instn_cn_full_nm',\n",
       " 'byr_trdr_cd',\n",
       " 'byr_trdr_nm',\n",
       " 'buy_side_trdng_acnt_cd',\n",
       " 'byr_trdr_sctn',\n",
       " 'byr_cptl_bnk_nm',\n",
       " 'byr_cptl_acnt_no',\n",
       " 'byr_pymnt_sys_cd',\n",
       " 'byr_dpst_acnt_nm',\n",
       " 'buy_side_dpst_cd',\n",
       " 'byr_cstdn',\n",
       " 'byr_trd_acnt_cfets_cd',\n",
       " 'byr_trd_acnt_cn_full_nm',\n",
       " 'byr_trd_acnt_cn_shrt_nm',\n",
       " 'byr_trd_acnt_en_shrt_nm',\n",
       " 'byr_cptl_acnt_nm',\n",
       " 'byr_instn_src',\n",
       " 'byr_trd_acnt_en_full_nm',\n",
       " 'slr_trdr_cd',\n",
       " 'slr_trdr_nm',\n",
       " 'sell_side_trdng_acnt_cd',\n",
       " 'slr_trd_sctn',\n",
       " 'slr_cptl_bnk_nm',\n",
       " 'slr_cptl_acnt_no',\n",
       " 'slr_pymnt_sys_cd',\n",
       " 'slr_dpst_acnt_nm',\n",
       " 'sell_side_dpst_acnt',\n",
       " 'slr_cstdn',\n",
       " 'slr_trd_acnt_cfets_cd',\n",
       " 'slr_trd_acnt_cn_full_nm',\n",
       " 'slr_trd_acnt_cn_shrt_nm',\n",
       " 'slr_trd_acnt_en_shrt_nm',\n",
       " 'slr_cptl_acnt_nm',\n",
       " 'slr_trd_acnt_en_full_nm',\n",
       " 'trd_prc_dir',\n",
       " 'ttm_tech',\n",
       " 'crt_tm',\n",
       " 'upd_tm',\n",
       " 'pips_trd_f']"
      ]
     },
     "execution_count": 15,
     "metadata": {},
     "output_type": "execute_result"
    }
   ],
   "source": [
    "missing_summary[\"Column\"].to_list()"
   ]
  },
  {
   "cell_type": "code",
   "execution_count": 16,
   "metadata": {},
   "outputs": [],
   "source": []
  },
  {
   "cell_type": "code",
   "execution_count": 41,
   "metadata": {},
   "outputs": [
    {
     "name": "stdout",
     "output_type": "stream",
     "text": [
      "      dl_tp byr_instn_cd        byr_trdr_cd byr_trdr_nm  \\\n",
      "0         0       100002          xujingzhe         徐惊蛰   \n",
      "1         0       100007         zhangyong1          张勇   \n",
      "2         2       100013               YGSH          杨舸   \n",
      "3         0       100160  liuchang364578936          刘畅   \n",
      "4         0       100370              qlsyl         宋怡霖   \n",
      "...     ...          ...                ...         ...   \n",
      "71842     1       101169          jiangyisz          蒋毅   \n",
      "71843     1       100375         Chenpengqi         陈芃其   \n",
      "71844     0       303400          cyk123456         褚衍堃   \n",
      "71845     0       300889           53540069         谢学荣   \n",
      "71846     2       404990        13574676315         朱诗萍   \n",
      "\n",
      "      byr_trd_acnt_cn_shrt_nm slr_instn_cd   slr_trdr_cd slr_trdr_nm  \\\n",
      "0                        中国银行       302979       xuzihan         徐子晗   \n",
      "1                        中信银行       102051      lizheng3          李政   \n",
      "2                        平安银行       411726  shgliuwanhui         刘万辉   \n",
      "3                        成都银行       101169   chihaoransz         迟浩然   \n",
      "4                        齐鲁银行       100829   17854299465         褚天歌   \n",
      "...                       ...          ...           ...         ...   \n",
      "71842                    山西证券       100653   pengjunfeng         彭俊峰   \n",
      "71843                    恒丰银行       101169  chenzhuohust          陈卓   \n",
      "71844                 江苏镇江农商行       102283     zhangran1          张然   \n",
      "71845              江苏太仓农村商业银行       101169   wangruoxisz         王若熹   \n",
      "71846                 湖南汝城农商行       100013          CZHY         蔡之雨   \n",
      "\n",
      "      slr_trd_acnt_cn_shrt_nm  \n",
      "0                        华创证券  \n",
      "1                      中信建投证券  \n",
      "2                        申港证券  \n",
      "3                        山西证券  \n",
      "4                        日照银行  \n",
      "...                       ...  \n",
      "71842                    宁波银行  \n",
      "71843                    山西证券  \n",
      "71844                    江苏银行  \n",
      "71845                    山西证券  \n",
      "71846                    平安银行  \n",
      "\n",
      "[71847 rows x 9 columns]\n"
     ]
    }
   ],
   "source": [
    "import pandas as pd\n",
    "\n",
    "# 读取数据，指定特定列的字符串格式类型和需要的列\n",
    "feature = ['dl_tp', 'byr_trd_acnt_cn_shrt_nm', 'byr_instn_cd', 'byr_trdr_nm', 'byr_trdr_cd', \n",
    "           'slr_trd_acnt_cn_shrt_nm', 'slr_instn_cd', 'slr_trdr_nm', 'slr_trdr_cd']\n",
    "\n",
    "# 使用 usecols 加载特定的列，可以提高读取效率，避免不必要的内存消耗\n",
    "data = pd.read_csv('bond_dtl_10_08.csv', usecols=feature, dtype={col: str for col in feature})\n",
    "\n",
    "# 打印过滤后的数据\n",
    "print(data)"
   ]
  },
  {
   "cell_type": "code",
   "execution_count": 43,
   "metadata": {},
   "outputs": [
    {
     "name": "stdout",
     "output_type": "stream",
     "text": [
      "      instn_cd    instn_cn_full_nm         instn_tp\n",
      "0       443066        徐州工程机械集团有限公司               企业\n",
      "1       406403        威海蓝创建设投资有限公司               企业\n",
      "2       901489          海天建设集团有限公司               企业\n",
      "3       305173        内江投资控股集团有限公司               企业\n",
      "4       458884  民生期货-周周盈5号集合资产管理计划       期货公司资产管理产品\n",
      "...        ...                 ...              ...\n",
      "84388   410880        青岛昌阳投资开发有限公司               企业\n",
      "84389   457126       太平资产如意85号资管产品  保险资产管理公司的资产管理产品\n",
      "84390   300394          山东高速股份有限公司               企业\n",
      "84391   901805        北京顺鑫农业股份有限公司               企业\n",
      "84392   303953    苏州创元投资发展(集团)有限公司               企业\n",
      "\n",
      "[84393 rows x 3 columns]\n"
     ]
    }
   ],
   "source": [
    "import pandas as pd\n",
    "\n",
    "# 读取数据，指定特定列的字符串格式类型和需要的列\n",
    "feature = ['instn_cd', 'instn_cn_full_nm', \"instn_tp\"]\n",
    "\n",
    "# 使用 usecols 加载特定的列，可以提高读取效率，避免不必要的内存消耗\n",
    "data = pd.read_csv('rmb_hstry_actv_instn_base_info.csv', usecols=feature, dtype={col: str for col in feature})\n",
    "\n",
    "data.to_csv(\"product.csv\")\n",
    "# 打印过滤后的数据\n",
    "print(data)"
   ]
  },
  {
   "cell_type": "code",
   "execution_count": null,
   "metadata": {},
   "outputs": [],
   "source": []
  }
 ],
 "metadata": {
  "kernelspec": {
   "display_name": "base",
   "language": "python",
   "name": "python3"
  },
  "language_info": {
   "codemirror_mode": {
    "name": "ipython",
    "version": 3
   },
   "file_extension": ".py",
   "mimetype": "text/x-python",
   "name": "python",
   "nbconvert_exporter": "python",
   "pygments_lexer": "ipython3",
   "version": "3.9.16"
  }
 },
 "nbformat": 4,
 "nbformat_minor": 2
}
