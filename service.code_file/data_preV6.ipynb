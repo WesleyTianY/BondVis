{
 "cells": [
  {
   "cell_type": "code",
   "execution_count": 7,
   "metadata": {},
   "outputs": [],
   "source": [
    "from chain_project.path_linking import summarize_paths, extract_database, merge_subsequences, prefix_span, restore_trades\n",
    "from chain_project.main import process_transactions\n",
    "\n",
    "def map_hashes_to_names(database):\n",
    "    # 生成一个唯一的名称映射\n",
    "    hash_to_name = {}\n",
    "    name_counter = 1\n",
    "    \n",
    "    for seq in database:\n",
    "        for hash_value in seq:\n",
    "            if hash_value not in hash_to_name:\n",
    "                hash_to_name[hash_value] = f\"Name{name_counter}\"\n",
    "                name_counter += 1\n",
    "    \n",
    "    # 使用名称映射替换哈希\n",
    "    mapped_database = []\n",
    "    for seq in database:\n",
    "        mapped_seq = [hash_to_name[hash_value] for hash_value in seq]\n",
    "        mapped_database.append(mapped_seq)\n",
    "    \n",
    "    return mapped_database, hash_to_name\n",
    "\n",
    "# file_path='static/bond_2005496_2006_2402.csv'\n",
    "file_path='static/ndm_transaction_list_all_20230705.csv'"
   ]
  },
  {
   "cell_type": "code",
   "execution_count": null,
   "metadata": {},
   "outputs": [],
   "source": [
    "# inst_list = ['长线资本基金孙姣', '国金证券股份严佳', '华创证券有限马延威', '潍坊银行股份王梓涵', '鄂尔多斯银行郭宁', '粤开证券股份周荃', '交通银行股份何嘉隆', '华源证券股份钱淑雯']\n",
    "\n",
    "# data = process_transactions(file_path, inst_list)\n",
    "# json_output = summarize_paths(data)\n",
    "# trade_hashes = extract_database(json_output)"
   ]
  },
  {
   "cell_type": "code",
   "execution_count": 15,
   "metadata": {},
   "outputs": [
    {
     "name": "stderr",
     "output_type": "stream",
     "text": [
      "/Users/dennis/Documents/CFETS/2 System List/BondVis/backend/services/chain_project/chain_preprocess.py:12: DtypeWarning: Columns (69,83,110,121,122,123,124,125,128) have mixed types. Specify dtype option on import or set low_memory=False.\n",
      "  df = pd.read_csv(file_path)\n"
     ]
    }
   ],
   "source": [
    "inst_list = ['华创证券有限马延威']\n",
    "\n",
    "data = process_transactions(file_path, inst_list)\n",
    "json_output = summarize_paths(data)\n",
    "trade_hashes = extract_database(json_output)"
   ]
  },
  {
   "cell_type": "code",
   "execution_count": 16,
   "metadata": {},
   "outputs": [
    {
     "data": {
      "text/plain": [
       "[{'source': '华西证券股份梅嘉恬',\n",
       "  'target': '中国人寿保险姚雯',\n",
       "  'start_time': '2023-07-05T00:00:00',\n",
       "  'end_time': '2023-07-06T00:00:00',\n",
       "  'length': 2,\n",
       "  'trade_count': 2,\n",
       "  'profit': {'华创证券有限马延威': {'profit': 0, 'loss': -6.499999999999986},\n",
       "   '华西证券股份梅嘉恬': {'profit': 0, 'loss': 0},\n",
       "   '中国人寿保险姚雯': {'profit': 0, 'loss': 0}},\n",
       "  'price_changes': [-0.012582268679829629],\n",
       "  'institution_counts': {'华西证券股份梅嘉恬': 1, '华创证券有限马延威': 2, '中国人寿保险姚雯': 1},\n",
       "  'price_standard_deviation': 0.6499999999999986,\n",
       "  'anomaly_scores': {'profit_anomaly_score': 4.333333333333324,\n",
       "   'institution_counts_anomaly_score': 0.6666666666666667,\n",
       "   'price_std_dev_anomaly_score': 0,\n",
       "   'price_change_anomaly_score': 0},\n",
       "  'trades': [{'seller': '华西证券股份梅嘉恬',\n",
       "    'buyer': '华创证券有限马延威',\n",
       "    'volume': 5,\n",
       "    'price': 103.32,\n",
       "    'time_dl': '2023-07-05T13:50:27+08:00',\n",
       "    'trade_hash': '28f0569da207107d7c94833f9314e474edd9fe0baeb7a7f8e32a53c7d9dca4c1'},\n",
       "   {'seller': '华创证券有限马延威',\n",
       "    'buyer': '中国人寿保险姚雯',\n",
       "    'volume': 4,\n",
       "    'price': 102.02,\n",
       "    'time_dl': '2023-07-05T13:58:09+08:00',\n",
       "    'trade_hash': '79b11530837b6c61985b39a045289fb6c3c4e5f2e26deae45082bedc60d1b307'}]},\n",
       " {'source': '江苏常熟农村冯承彦',\n",
       "  'target': '中国人寿保险姚雯',\n",
       "  'start_time': '2023-07-05T00:00:00',\n",
       "  'end_time': '2023-07-06T00:00:00',\n",
       "  'length': 2,\n",
       "  'trade_count': 2,\n",
       "  'profit': {'华创证券有限马延威': {'profit': 0, 'loss': -6.25},\n",
       "   '江苏常熟农村冯承彦': {'profit': 0, 'loss': 0},\n",
       "   '中国人寿保险姚雯': {'profit': 0, 'loss': 0}},\n",
       "  'price_changes': [-0.012104192892417934],\n",
       "  'institution_counts': {'江苏常熟农村冯承彦': 1, '华创证券有限马延威': 2, '中国人寿保险姚雯': 1},\n",
       "  'price_standard_deviation': 0.625,\n",
       "  'anomaly_scores': {'profit_anomaly_score': 4.166666666666667,\n",
       "   'institution_counts_anomaly_score': 0.6666666666666667,\n",
       "   'price_std_dev_anomaly_score': 0,\n",
       "   'price_change_anomaly_score': 0},\n",
       "  'trades': [{'seller': '江苏常熟农村冯承彦',\n",
       "    'buyer': '华创证券有限马延威',\n",
       "    'volume': 5,\n",
       "    'price': 103.27,\n",
       "    'time_dl': '2023-07-05T13:50:47+08:00',\n",
       "    'trade_hash': '40cab270d3af8e28492db8a93a42e56e610c6afda272a226707ce29b22c5f842'},\n",
       "   {'seller': '华创证券有限马延威',\n",
       "    'buyer': '中国人寿保险姚雯',\n",
       "    'volume': 4,\n",
       "    'price': 102.02,\n",
       "    'time_dl': '2023-07-05T13:58:09+08:00',\n",
       "    'trade_hash': '79b11530837b6c61985b39a045289fb6c3c4e5f2e26deae45082bedc60d1b307'}]}]"
      ]
     },
     "execution_count": 16,
     "metadata": {},
     "output_type": "execute_result"
    }
   ],
   "source": [
    "json_output"
   ]
  },
  {
   "cell_type": "code",
   "execution_count": 14,
   "metadata": {},
   "outputs": [],
   "source": [
    "# 原始数据\n",
    "database = trade_hashes\n",
    "\n",
    "sequences, hash_to_name = map_hashes_to_names(database)\n",
    "\n",
    "# # 打印结果\n",
    "# print(\"Mapped Database:\")\n",
    "# for seq in mapped_database:\n",
    "#     print(seq)\n",
    "\n",
    "# print(\"\\nHash to Name Mapping:\")\n",
    "# for hash_value, name in hash_to_name.items():\n",
    "#     print(f\"{hash_value}: {name}\")\n"
   ]
  },
  {
   "cell_type": "code",
   "execution_count": 15,
   "metadata": {},
   "outputs": [
    {
     "name": "stdout",
     "output_type": "stream",
     "text": [
      "Frequent subsequences appearing in at least 2 sequences:\n",
      "Subsequence: ('Name5', 'Name6', 'Name7'), Count: 2\n",
      "Subsequence: ('Name5', 'Name6', 'Name7', 'Name8'), Count: 2\n",
      "Subsequence: ('Name1', 'Name2', 'Name3'), Count: 5\n",
      "Subsequence: ('Name6', 'Name7', 'Name8'), Count: 3\n",
      "Subsequence: ('Name4', 'Name5', 'Name6', 'Name7', 'Name8'), Count: 2\n",
      "Subsequence: ('Name4', 'Name5', 'Name6'), Count: 2\n",
      "Subsequence: ('Name4', 'Name5', 'Name6', 'Name7'), Count: 2\n",
      "Subsequence: ('Name3', 'Name9', 'Name10'), Count: 3\n",
      "Subsequence: ('Name2', 'Name3', 'Name9'), Count: 4\n",
      "Subsequence: ('Name1', 'Name2', 'Name3', 'Name9'), Count: 4\n",
      "Subsequence: ('Name3', 'Name9', 'Name11'), Count: 2\n",
      "Subsequence: ('Name9', 'Name10', 'Name14'), Count: 2\n",
      "Subsequence: ('Name3', 'Name9', 'Name10', 'Name14'), Count: 2\n",
      "Subsequence: ('Name11', 'Name19', 'Name18'), Count: 2\n"
     ]
    }
   ],
   "source": [
    "from collections import defaultdict\n",
    "def generate_subsequences(seq, min_length=1):\n",
    "    \"\"\"生成所有可能的子序列\"\"\"\n",
    "    subsequences = set()\n",
    "    n = len(seq)\n",
    "    for length in range(min_length, n + 1):\n",
    "        for start in range(n - length + 1):\n",
    "            subsequences.add(tuple(seq[start:start + length]))\n",
    "    return subsequences\n",
    "\n",
    "def find_frequent_subsequences(sequences, min_occurrences):\n",
    "    \"\"\"找到在至少min_occurrences个序列中出现的子序列\"\"\"\n",
    "    subseq_counts = defaultdict(int)\n",
    "    num_sequences = len(sequences)\n",
    "    \n",
    "    # 统计所有子序列的出现次数\n",
    "    for seq in sequences:\n",
    "        subsequences = generate_subsequences(seq, min_length=3)  # 子序列最小长度为3\n",
    "        unique_subsequences = set(subsequences)  # 去重\n",
    "        for subseq in unique_subsequences:\n",
    "            subseq_counts[subseq] += 1\n",
    "\n",
    "    # 过滤出在至少min_occurrences个序列中出现的子序列\n",
    "    frequent_subsequences = {subseq: count for subseq, count in subseq_counts.items() if count >= min_occurrences}\n",
    "    \n",
    "    return frequent_subsequences\n",
    "\n",
    "# 查找至少出现3次的频繁子序列\n",
    "min_occurrences = 2\n",
    "frequent_subsequences = find_frequent_subsequences(sequences, min_occurrences)\n",
    "print(f\"Frequent subsequences appearing in at least {min_occurrences} sequences:\")\n",
    "for subseq, count in frequent_subsequences.items():\n",
    "    print(f\"Subsequence: {subseq}, Count: {count}\")"
   ]
  },
  {
   "cell_type": "code",
   "execution_count": null,
   "metadata": {},
   "outputs": [],
   "source": []
  }
 ],
 "metadata": {
  "kernelspec": {
   "display_name": "base",
   "language": "python",
   "name": "python3"
  },
  "language_info": {
   "codemirror_mode": {
    "name": "ipython",
    "version": 3
   },
   "file_extension": ".py",
   "mimetype": "text/x-python",
   "name": "python",
   "nbconvert_exporter": "python",
   "pygments_lexer": "ipython3",
   "version": "3.9.16"
  }
 },
 "nbformat": 4,
 "nbformat_minor": 2
}
