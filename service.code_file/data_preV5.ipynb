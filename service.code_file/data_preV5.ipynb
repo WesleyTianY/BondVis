{
 "cells": [
  {
   "cell_type": "code",
   "execution_count": 1,
   "metadata": {},
   "outputs": [],
   "source": [
    "from chain_project.path_linking import summarize_paths, extract_database, merge_subsequences, prefix_span, restore_trades\n",
    "from chain_project.main import process_transactions\n",
    "\n",
    "def map_hashes_to_names(database):\n",
    "    # 生成一个唯一的名称映射\n",
    "    hash_to_name = {}\n",
    "    name_counter = 1\n",
    "    \n",
    "    for seq in database:\n",
    "        for hash_value in seq:\n",
    "            if hash_value not in hash_to_name:\n",
    "                hash_to_name[hash_value] = f\"Name{name_counter}\"\n",
    "                name_counter += 1\n",
    "    \n",
    "    # 使用名称映射替换哈希\n",
    "    mapped_database = []\n",
    "    for seq in database:\n",
    "        mapped_seq = [hash_to_name[hash_value] for hash_value in seq]\n",
    "        mapped_database.append(mapped_seq)\n",
    "    \n",
    "    return mapped_database, hash_to_name\n",
    "\n",
    "file_path='static/bond_2005496_2006_2402.csv'\n",
    "inst_list = ['长线资本基金孙姣', '国金证券股份严佳', '华创证券有限马延威', '潍坊银行股份王梓涵', '鄂尔多斯银行郭宁', '粤开证券股份周荃', '交通银行股份何嘉隆', '华源证券股份钱淑雯']\n",
    "\n",
    "data = process_transactions(file_path, inst_list)\n",
    "json_output = summarize_paths(data)\n",
    "trade_hashes = extract_database(json_output)"
   ]
  },
  {
   "cell_type": "code",
   "execution_count": 14,
   "metadata": {},
   "outputs": [],
   "source": [
    "# 原始数据\n",
    "database = trade_hashes\n",
    "\n",
    "sequences, hash_to_name = map_hashes_to_names(database)\n",
    "\n",
    "# # 打印结果\n",
    "# print(\"Mapped Database:\")\n",
    "# for seq in mapped_database:\n",
    "#     print(seq)\n",
    "\n",
    "# print(\"\\nHash to Name Mapping:\")\n",
    "# for hash_value, name in hash_to_name.items():\n",
    "#     print(f\"{hash_value}: {name}\")\n"
   ]
  },
  {
   "cell_type": "code",
   "execution_count": 15,
   "metadata": {},
   "outputs": [
    {
     "name": "stdout",
     "output_type": "stream",
     "text": [
      "Frequent subsequences appearing in at least 2 sequences:\n",
      "Subsequence: ('Name5', 'Name6', 'Name7'), Count: 2\n",
      "Subsequence: ('Name5', 'Name6', 'Name7', 'Name8'), Count: 2\n",
      "Subsequence: ('Name1', 'Name2', 'Name3'), Count: 5\n",
      "Subsequence: ('Name6', 'Name7', 'Name8'), Count: 3\n",
      "Subsequence: ('Name4', 'Name5', 'Name6', 'Name7', 'Name8'), Count: 2\n",
      "Subsequence: ('Name4', 'Name5', 'Name6'), Count: 2\n",
      "Subsequence: ('Name4', 'Name5', 'Name6', 'Name7'), Count: 2\n",
      "Subsequence: ('Name3', 'Name9', 'Name10'), Count: 3\n",
      "Subsequence: ('Name2', 'Name3', 'Name9'), Count: 4\n",
      "Subsequence: ('Name1', 'Name2', 'Name3', 'Name9'), Count: 4\n",
      "Subsequence: ('Name3', 'Name9', 'Name11'), Count: 2\n",
      "Subsequence: ('Name9', 'Name10', 'Name14'), Count: 2\n",
      "Subsequence: ('Name3', 'Name9', 'Name10', 'Name14'), Count: 2\n",
      "Subsequence: ('Name11', 'Name19', 'Name18'), Count: 2\n"
     ]
    }
   ],
   "source": [
    "from collections import defaultdict\n",
    "def generate_subsequences(seq, min_length=1):\n",
    "    \"\"\"生成所有可能的子序列\"\"\"\n",
    "    subsequences = set()\n",
    "    n = len(seq)\n",
    "    for length in range(min_length, n + 1):\n",
    "        for start in range(n - length + 1):\n",
    "            subsequences.add(tuple(seq[start:start + length]))\n",
    "    return subsequences\n",
    "\n",
    "def find_frequent_subsequences(sequences, min_occurrences):\n",
    "    \"\"\"找到在至少min_occurrences个序列中出现的子序列\"\"\"\n",
    "    subseq_counts = defaultdict(int)\n",
    "    num_sequences = len(sequences)\n",
    "    \n",
    "    # 统计所有子序列的出现次数\n",
    "    for seq in sequences:\n",
    "        subsequences = generate_subsequences(seq, min_length=3)  # 子序列最小长度为3\n",
    "        unique_subsequences = set(subsequences)  # 去重\n",
    "        for subseq in unique_subsequences:\n",
    "            subseq_counts[subseq] += 1\n",
    "\n",
    "    # 过滤出在至少min_occurrences个序列中出现的子序列\n",
    "    frequent_subsequences = {subseq: count for subseq, count in subseq_counts.items() if count >= min_occurrences}\n",
    "    \n",
    "    return frequent_subsequences\n",
    "\n",
    "# 查找至少出现3次的频繁子序列\n",
    "min_occurrences = 2\n",
    "frequent_subsequences = find_frequent_subsequences(sequences, min_occurrences)\n",
    "print(f\"Frequent subsequences appearing in at least {min_occurrences} sequences:\")\n",
    "for subseq, count in frequent_subsequences.items():\n",
    "    print(f\"Subsequence: {subseq}, Count: {count}\")"
   ]
  },
  {
   "cell_type": "code",
   "execution_count": null,
   "metadata": {},
   "outputs": [],
   "source": []
  }
 ],
 "metadata": {
  "kernelspec": {
   "display_name": "base",
   "language": "python",
   "name": "python3"
  },
  "language_info": {
   "codemirror_mode": {
    "name": "ipython",
    "version": 3
   },
   "file_extension": ".py",
   "mimetype": "text/x-python",
   "name": "python",
   "nbconvert_exporter": "python",
   "pygments_lexer": "ipython3",
   "version": "3.9.16"
  }
 },
 "nbformat": 4,
 "nbformat_minor": 2
}
