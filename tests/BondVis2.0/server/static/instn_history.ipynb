{
 "cells": [
  {
   "cell_type": "code",
   "execution_count": 1,
   "metadata": {},
   "outputs": [
    {
     "name": "stdout",
     "output_type": "stream",
     "text": [
      "   instn_cd  value\n",
      "0         1     10\n",
      "2         1     30\n",
      "4         1     50\n"
     ]
    }
   ],
   "source": [
    "import pandas as pd\n",
    "\n",
    "# 假设你的数据存储在一个名为 df 的 DataFrame 中\n",
    "# 以下是一个示例 DataFrame，实际中请替换成你的数据\n",
    "data = {\n",
    "    'instn_cd': [1, 2, 1, 2, 1, 2],\n",
    "    'value': [10, 20, 30, 40, 50, 60],\n",
    "}\n",
    "\n",
    "df = pd.DataFrame(data)\n",
    "\n",
    "# 根据 instn_cd 进行 groupby，并选择需要的组\n",
    "instn_cd_groups = df.groupby('instn_cd')\n",
    "\n",
    "# 假设你想获取 instn_cd 为 1 的组的数据\n",
    "instn_cd_1_data = instn_cd_groups.get_group(1)\n",
    "\n",
    "# 打印结果\n",
    "print(instn_cd_1_data)\n"
   ]
  },
  {
   "cell_type": "code",
   "execution_count": null,
   "metadata": {},
   "outputs": [],
   "source": []
  }
 ],
 "metadata": {
  "kernelspec": {
   "display_name": "Python 3",
   "language": "python",
   "name": "python3"
  },
  "language_info": {
   "codemirror_mode": {
    "name": "ipython",
    "version": 3
   },
   "file_extension": ".py",
   "mimetype": "text/x-python",
   "name": "python",
   "nbconvert_exporter": "python",
   "pygments_lexer": "ipython3",
   "version": "3.9.6"
  }
 },
 "nbformat": 4,
 "nbformat_minor": 2
}
