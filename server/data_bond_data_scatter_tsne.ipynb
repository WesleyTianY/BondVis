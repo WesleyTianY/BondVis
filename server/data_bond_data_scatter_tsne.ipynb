{
 "cells": [
  {
   "cell_type": "code",
   "execution_count": 5,
   "metadata": {},
   "outputs": [],
   "source": [
    "import pandas as pd\n",
    "import numpy as np\n",
    "import pandas as pd\n",
    "from sklearn.preprocessing import OneHotEncoder\n",
    "from sklearn.manifold import TSNE\n",
    "import matplotlib.pyplot as plt\n",
    "\n",
    "def load_transaction_data(file):\n",
    "    df = pd.read_csv(file)\n",
    "    header_string = \"dl_cd,txn_dt,stlmnt_dt,dl_tm,bsns_tm,bond_cd,bnds_nm,net_prc,yld_to_mrty,nmnl_vol,amnt,acrd_intrst,totl_acrd_intrst,all_prc,stlmnt_amnt,ttm_yrly,byr_qt_cd,byr_instn_cd,byr_cfets_instn_cd,byr_instn_cn_full_nm,byr_instn_cn_shrt_nm,byr_instn_en_shrt_nm,byr_trdr_nm,byr_adrs,byr_trdr_fax,byr_lgl_rprsntv,byr_trdr_tel,buy_side_trdng_acnt_cd,byr_cptl_bnk_nm,byr_cptl_acnt_no,byr_pymnt_sys_cd,byr_dpst_acnt_nm,buy_side_dpst_cd,byr_trd_acnt_cfets_cd,byr_trd_acnt_cn_full_nm,byr_trd_acnt_cn_shrt_nm,byr_trd_acnt_en_shrt_nm,byr_cptl_acnt_nm,byr_trd_acnt_en_full_nm,slr_qt_cd,slr_instn_cd,slr_cfets_instn_cd,slr_instn_cn_full_nm,slr_instn_cn_shrt_nm,slr_instn_en_shrt_nm,slr_trdr_cd,slr_trdr_nm,slr_adrs,slr_trdr_fax,slr_lgl_rprsntv,slr_trdr_tel,sell_side_trdng_acnt_cd,slr_cptl_bnk_nm,slr_cptl_acnt_no,slr_pymnt_sys_cd,slr_dpst_acnt_nm,sell_side_dpst_acnt,slr_trd_acnt_cfets_cd,slr_trd_acnt_cn_full_nm,slr_trd_acnt_cn_shrt_nm,slr_trd_acnt_en_shrt_nm,slr_cptl_acnt_nm,slr_trd_acnt_en_full_nm,crt_tm,upd_tm\"\n",
    "    # 使用split()方法将字符串转换为列表\n",
    "    header_list = header_string.split(',')\n",
    "    return df[header_list]\n",
    "\n",
    "def merge_transactions(df, window=1):\n",
    "    # 将日期转换为 datetime 对象\n",
    "    df['date'] = pd.to_datetime(df['date'])\n",
    "\n",
    "    # 根据日期和其他关键列对数据进行排序\n",
    "    df = df.sort_values(by=['date', 'buyer', 'seller'])\n",
    "    merged_transactions = []\n",
    "    current_transaction = None\n",
    "    \n",
    "    for _, row in df.iterrows():\n",
    "        if current_transaction is None:\n",
    "            current_transaction = row\n",
    "            continue\n",
    "        \n",
    "        if (row['date'] - current_transaction['date']).days <= window:\n",
    "            if row['buyer'] == current_transaction['buyer'] and row['seller'] == current_transaction['seller'] and row['price'] == current_transaction['price']:\n",
    "                current_transaction['volume'] += row['volume']\n",
    "            else:\n",
    "                merged_transactions.append(current_transaction)\n",
    "                current_transaction = row\n",
    "        else:\n",
    "            merged_transactions.append(current_transaction)\n",
    "            current_transaction = row\n",
    "            \n",
    "    if current_transaction is not None:\n",
    "        merged_transactions.append(current_transaction)\n",
    "    \n",
    "    return pd.DataFrame(merged_transactions)\n",
    "\n",
    "def preprocess_data(df):\n",
    "    # 设置 Pandas 显示选项\n",
    "    pd.set_option('display.max_rows', 500)\n",
    "    pd.set_option('display.max_columns', 500)\n",
    "\n",
    "    # 将交易时间列转换为 datetime 对象\n",
    "    df['dl_tm'] = pd.to_datetime(df['dl_tm'])\n",
    "\n",
    "    # 将字符串列转换为字符串类型\n",
    "    df['byr_instn_cn_full_nm'] = df['byr_instn_cn_full_nm'].astype(str)\n",
    "    df['slr_instn_cn_full_nm'] = df['slr_instn_cn_full_nm'].astype(str)\n",
    "    df['byr_trdr_nm'] = df['byr_trdr_nm'].astype(str)\n",
    "    df['slr_trdr_nm'] = df['slr_trdr_nm'].astype(str)\n",
    "\n",
    "    # 将购买和销售机构合并为一个列\n",
    "    df['instn'] = df['byr_instn_cn_full_nm'].str.cat(df['slr_instn_cn_full_nm'], sep=',')\n",
    "\n",
    "    # 计算每个月每个机构的交易次数\n",
    "    df['byr_instn_cn_full_nm'] = df['byr_instn_cn_full_nm'].str[:6].str.cat(df['byr_trdr_nm'], sep='')\n",
    "    df['slr_instn_cn_full_nm'] = df['slr_instn_cn_full_nm'].str[:6].str.cat(df['slr_trdr_nm'], sep='')\n",
    "    df['byr_trdr_nm'] = df['byr_trdr_nm'].str.ljust(4)\n",
    "    df['slr_trdr_nm'] = df['slr_trdr_nm'].str.ljust(4)\n",
    "    df['nmnl_vol'] = np.int64(df[\"nmnl_vol\"]/10000000)\n",
    "    df['net_prc'] = (df[\"net_prc\"]).round(2)\n",
    "    # 提取需要的列\n",
    "    result = df[['dl_tm', 'stlmnt_dt', 'slr_instn_cn_full_nm', 'byr_instn_cn_full_nm', 'nmnl_vol', 'net_prc', 'byr_trdr_nm', 'slr_trdr_nm']]\n",
    "    # 重命名列以使其更易读\n",
    "    result = result.rename(columns={\"dl_tm\" :'date_dl', \"stlmnt_dt\" :'date', 'byr_instn_cn_full_nm':'buyer', 'slr_instn_cn_full_nm':\"seller\",  'instn': 'Institution', 'nmnl_vol': 'volume', 'net_prc': \"price\", 'byr_cd':'byr_instn_cd', 'slr_cd':'slr_instn_cd'})\n",
    "    return result\n",
    "    return merge_transactions(result)"
   ]
  },
  {
   "cell_type": "code",
   "execution_count": 6,
   "metadata": {},
   "outputs": [
    {
     "name": "stderr",
     "output_type": "stream",
     "text": [
      "/Users/dennis/Library/Python/3.9/lib/python/site-packages/sklearn/preprocessing/_encoders.py:808: FutureWarning: `sparse` was renamed to `sparse_output` in version 1.2 and will be removed in 1.4. `sparse_output` is ignored unless you leave `sparse` to its default value.\n",
      "  warnings.warn(\n"
     ]
    },
    {
     "data": {
      "image/png": "[encoded data removed]",
      "text/plain": [
       "<Figure size 640x480 with 1 Axes>"
      ]
     },
     "metadata": {},
     "output_type": "display_data"
    }
   ],
   "source": [
    "# 示例数据\n",
    "file = 'static/chain_data/bond_2005496_2006_2402.csv'\n",
    "df_all = load_transaction_data(file)\n",
    "df_processed = preprocess_data(df_all)\n",
    "# 提取年、月、日信息\n",
    "df_processed['date'] = pd.to_datetime(df_processed['date'])\n",
    "df_processed['year'] = df_processed['date'].dt.year\n",
    "df_processed['month'] = df_processed['date'].dt.month\n",
    "df_processed['day'] = df_processed['date'].dt.day\n",
    "# feature_list = ['seller', 'buyer', 'byr_trdr_nm', 'slr_trdr_nm', 'volume', 'price', 'year', 'month', 'day']\n",
    "feature_list = ['volume', 'price', 'year', 'month', 'day']\n",
    "df_feature = df_processed[feature_list]\n",
    "\n",
    "\n",
    "def get_tsne_data(df, feature_list, n_components=1):\n",
    "  # 对分类特征进行 one-hot 编码\n",
    "  encoder = OneHotEncoder(sparse=False)\n",
    "  encoded_features = encoder.fit_transform(df[feature_list])\n",
    "  # 使用 t-SNE 进行降维\n",
    "  tsne = TSNE(n_components, random_state=42)\n",
    "  transformed_data = tsne.fit_transform(encoded_features)\n",
    "  return transformed_data\n",
    "\n",
    "# 绘制散点图\n",
    "transformed_data = get_tsne_data(df_feature, feature_list)\n",
    "plt.scatter(transformed_data, df_processed['price'], s=df_processed['volume'])\n",
    "plt.xlabel('t-SNE Dimension')\n",
    "plt.title('t-SNE Dimensionality Reduction')\n",
    "plt.show()\n"
   ]
  },
  {
   "cell_type": "code",
   "execution_count": 7,
   "metadata": {},
   "outputs": [],
   "source": [
    "df_processed['y_pos'] = transformed_data\n",
    "df_processed_sorted = df_processed.sort_values(by='y_pos')"
   ]
  }
 ],
 "metadata": {
  "kernelspec": {
   "display_name": "Python 3",
   "language": "python",
   "name": "python3"
  },
  "language_info": {
   "codemirror_mode": {
    "name": "ipython",
    "version": 3
   },
   "file_extension": ".py",
   "mimetype": "text/x-python",
   "name": "python",
   "nbconvert_exporter": "python",
   "pygments_lexer": "ipython3",
   "version": "3.9.6"
  }
 },
 "nbformat": 4,
 "nbformat_minor": 2
}
