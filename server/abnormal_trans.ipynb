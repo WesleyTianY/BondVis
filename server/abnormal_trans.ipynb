{
 "cells": [
  {
   "cell_type": "code",
   "execution_count": 13,
   "metadata": {},
   "outputs": [
    {
     "name": "stdout",
     "output_type": "stream",
     "text": [
      "节点 A 的异常概率: 0.0\n",
      "节点 B 的异常概率: 0.0\n",
      "节点 C 的异常概率: 0.0\n",
      "节点 D 的异常概率: 0.0\n",
      "节点 E 的异常概率: 0.0\n"
     ]
    }
   ],
   "source": [
    "import math\n",
    "\n",
    "# 定义势函数的参数\n",
    "lambda_value = 0.2\n",
    "\n",
    "# 定义节点和边的关系，以及节点间的价格变动数据\n",
    "nodes = ['A', 'B', 'C', 'D', 'E']\n",
    "edges = [('A', 'B'), ('B', 'C'), ('C', 'D'), ('D', 'B'), ('B', 'E')]\n",
    "price_changes = {\n",
    "    ('A', 'B'): 0,\n",
    "    ('B', 'C'): 0.1,\n",
    "    ('C', 'D'): 0.1,\n",
    "    ('D', 'B'): 0.1,\n",
    "    ('B', 'E'): 55.1\n",
    "}\n",
    "\n",
    "# 定义势函数，使用价格变动的比例作为影响因子\n",
    "def potential_function(price_change):\n",
    "    return math.exp(-lambda_value * price_change)\n",
    "\n",
    "# 计算完整链路的联合概率分布\n",
    "def calculate_full_chain_probability():\n",
    "    full_chain_probability = 1.0\n",
    "    \n",
    "    for edge in edges:\n",
    "        price_change = price_changes[edge]\n",
    "        full_chain_probability *= potential_function(price_change)\n",
    "    \n",
    "    return full_chain_probability\n",
    "\n",
    "# 移除节点后计算链路的联合概率分布\n",
    "def calculate_removed_node_chain_probability(node_to_remove):\n",
    "    removed_node_chain_probability = 1.0\n",
    "    \n",
    "    for edge in edges:\n",
    "        if node_to_remove not in edge:\n",
    "            price_change = price_changes[edge]\n",
    "            removed_node_chain_probability *= potential_function(price_change)\n",
    "    \n",
    "    return removed_node_chain_probability\n",
    "\n",
    "# 计算节点的异常概率\n",
    "def calculate_node_anomaly_probability(node_to_check):\n",
    "    full_chain_prob = calculate_full_chain_probability()\n",
    "    removed_node_chain_prob = calculate_removed_node_chain_probability(node_to_check)\n",
    "    \n",
    "    # 计算异常概率，确保结果在 [0, 1] 范围内\n",
    "    if full_chain_prob == 0:\n",
    "        return 0.0\n",
    "    \n",
    "    anomaly_probability = max(0.0, 1 - removed_node_chain_prob / full_chain_prob)\n",
    "    \n",
    "    return anomaly_probability\n",
    "\n",
    "# 输出每个节点的异常概率\n",
    "if __name__ == \"__main__\":\n",
    "    for node in nodes:\n",
    "        node_anomaly_prob = calculate_node_anomaly_probability(node)\n",
    "        print(f\"节点 {node} 的异常概率: {node_anomaly_prob}\")\n"
   ]
  },
  {
   "cell_type": "code",
   "execution_count": null,
   "metadata": {},
   "outputs": [],
   "source": []
  }
 ],
 "metadata": {
  "kernelspec": {
   "display_name": "Python 3",
   "language": "python",
   "name": "python3"
  },
  "language_info": {
   "codemirror_mode": {
    "name": "ipython",
    "version": 3
   },
   "file_extension": ".py",
   "mimetype": "text/x-python",
   "name": "python",
   "nbconvert_exporter": "python",
   "pygments_lexer": "ipython3",
   "version": "3.9.6"
  }
 },
 "nbformat": 4,
 "nbformat_minor": 2
}
