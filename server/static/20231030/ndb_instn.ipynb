{
 "cells": [
  {
   "cell_type": "code",
   "execution_count": 1,
   "metadata": {},
   "outputs": [
    {
     "name": "stderr",
     "output_type": "stream",
     "text": [
      "/var/folders/gj/bwfyx1ks0p17lbgn6fl1nx1c0000gp/T/ipykernel_56225/370959277.py:3: DtypeWarning: Columns (19,69) have mixed types. Specify dtype option on import or set low_memory=False.\n",
      "  instn_base_info = pd.read_csv('ndm_transaction_list_all_20231030.csv')\n"
     ]
    }
   ],
   "source": [
    "# 数据一\n",
    "import pandas as pd\n",
    "instn_base_info = pd.read_csv('ndm_transaction_list_all_20231030.csv')"
   ]
  },
  {
   "cell_type": "code",
   "execution_count": 2,
   "metadata": {},
   "outputs": [
    {
     "data": {
      "text/html": [
       "<div>\n",
       "<style scoped>\n",
       "    .dataframe tbody tr th:only-of-type {\n",
       "        vertical-align: middle;\n",
       "    }\n",
       "\n",
       "    .dataframe tbody tr th {\n",
       "        vertical-align: top;\n",
       "    }\n",
       "\n",
       "    .dataframe thead th {\n",
       "        text-align: right;\n",
       "    }\n",
       "</style>\n",
       "<table border=\"1\" class=\"dataframe\">\n",
       "  <thead>\n",
       "    <tr style=\"text-align: right;\">\n",
       "      <th></th>\n",
       "      <th>dl_cd</th>\n",
       "      <th>bnds_nm</th>\n",
       "      <th>byr_instn_cd</th>\n",
       "      <th>byr_instn_cn_full_nm</th>\n",
       "    </tr>\n",
       "  </thead>\n",
       "  <tbody>\n",
       "    <tr>\n",
       "      <th>0</th>\n",
       "      <td>CBT20231030306541</td>\n",
       "      <td>05中信债2</td>\n",
       "      <td>455612</td>\n",
       "      <td>亚丁金融集团有限公司-自有资金-RQFII</td>\n",
       "    </tr>\n",
       "    <tr>\n",
       "      <th>1</th>\n",
       "      <td>CBT20231030306534</td>\n",
       "      <td>23附息国债23</td>\n",
       "      <td>100147</td>\n",
       "      <td>华泰证券股份有限公司</td>\n",
       "    </tr>\n",
       "    <tr>\n",
       "      <th>2</th>\n",
       "      <td>CBT20231030306527</td>\n",
       "      <td>20工商银行二级02</td>\n",
       "      <td>100035</td>\n",
       "      <td>中信证券股份有限公司</td>\n",
       "    </tr>\n",
       "    <tr>\n",
       "      <th>3</th>\n",
       "      <td>CBT20231030306540</td>\n",
       "      <td>19赣州城投PPN001</td>\n",
       "      <td>433621</td>\n",
       "      <td>兴银理财有限责任公司管理人</td>\n",
       "    </tr>\n",
       "    <tr>\n",
       "      <th>4</th>\n",
       "      <td>CBT20231030306535</td>\n",
       "      <td>23附息国债23</td>\n",
       "      <td>100132</td>\n",
       "      <td>江苏常熟农村商业银行股份有限公司</td>\n",
       "    </tr>\n",
       "    <tr>\n",
       "      <th>...</th>\n",
       "      <td>...</td>\n",
       "      <td>...</td>\n",
       "      <td>...</td>\n",
       "      <td>...</td>\n",
       "    </tr>\n",
       "    <tr>\n",
       "      <th>9145</th>\n",
       "      <td>CBT20231030305992</td>\n",
       "      <td>23国开08</td>\n",
       "      <td>400755</td>\n",
       "      <td>杭州银行股份有限公司资管</td>\n",
       "    </tr>\n",
       "    <tr>\n",
       "      <th>9146</th>\n",
       "      <td>CBT20231030306077</td>\n",
       "      <td>23国开15</td>\n",
       "      <td>100365</td>\n",
       "      <td>平安证券股份有限公司</td>\n",
       "    </tr>\n",
       "    <tr>\n",
       "      <th>9147</th>\n",
       "      <td>CBT20231030306060</td>\n",
       "      <td>23中行二级资本债03A</td>\n",
       "      <td>101920</td>\n",
       "      <td>首创证券股份有限公司</td>\n",
       "    </tr>\n",
       "    <tr>\n",
       "      <th>9148</th>\n",
       "      <td>CBT20231030306055</td>\n",
       "      <td>21一公局ABN001优先</td>\n",
       "      <td>423708</td>\n",
       "      <td>广州银行股份有限公司资管</td>\n",
       "    </tr>\n",
       "    <tr>\n",
       "      <th>9149</th>\n",
       "      <td>CBT20231030306054</td>\n",
       "      <td>23附息国债18</td>\n",
       "      <td>100066</td>\n",
       "      <td>国泰君安证券股份有限公司</td>\n",
       "    </tr>\n",
       "  </tbody>\n",
       "</table>\n",
       "<p>9150 rows × 4 columns</p>\n",
       "</div>"
      ],
      "text/plain": [
       "                  dl_cd        bnds_nm  byr_instn_cd   byr_instn_cn_full_nm\n",
       "0     CBT20231030306541         05中信债2        455612  亚丁金融集团有限公司-自有资金-RQFII\n",
       "1     CBT20231030306534       23附息国债23        100147             华泰证券股份有限公司\n",
       "2     CBT20231030306527     20工商银行二级02        100035             中信证券股份有限公司\n",
       "3     CBT20231030306540   19赣州城投PPN001        433621          兴银理财有限责任公司管理人\n",
       "4     CBT20231030306535       23附息国债23        100132       江苏常熟农村商业银行股份有限公司\n",
       "...                 ...            ...           ...                    ...\n",
       "9145  CBT20231030305992         23国开08        400755           杭州银行股份有限公司资管\n",
       "9146  CBT20231030306077         23国开15        100365             平安证券股份有限公司\n",
       "9147  CBT20231030306060   23中行二级资本债03A        101920             首创证券股份有限公司\n",
       "9148  CBT20231030306055  21一公局ABN001优先        423708           广州银行股份有限公司资管\n",
       "9149  CBT20231030306054       23附息国债18        100066           国泰君安证券股份有限公司\n",
       "\n",
       "[9150 rows x 4 columns]"
      ]
     },
     "execution_count": 2,
     "metadata": {},
     "output_type": "execute_result"
    }
   ],
   "source": [
    "selected_columns = ['dl_cd', 'bnds_nm', 'byr_instn_cd', 'byr_instn_cn_full_nm']\n",
    "result_df = instn_base_info[selected_columns]\n",
    "result_df"
   ]
  },
  {
   "cell_type": "code",
   "execution_count": null,
   "metadata": {},
   "outputs": [],
   "source": []
  }
 ],
 "metadata": {
  "kernelspec": {
   "display_name": "Python 3",
   "language": "python",
   "name": "python3"
  },
  "language_info": {
   "codemirror_mode": {
    "name": "ipython",
    "version": 3
   },
   "file_extension": ".py",
   "mimetype": "text/x-python",
   "name": "python",
   "nbconvert_exporter": "python",
   "pygments_lexer": "ipython3",
   "version": "3.9.6"
  }
 },
 "nbformat": 4,
 "nbformat_minor": 2
}
