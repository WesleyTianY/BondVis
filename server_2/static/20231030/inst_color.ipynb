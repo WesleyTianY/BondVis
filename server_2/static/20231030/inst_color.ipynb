{
 "cells": [
  {
   "cell_type": "code",
   "execution_count": 6,
   "metadata": {},
   "outputs": [
    {
     "name": "stdout",
     "output_type": "stream",
     "text": [
      "证券公司的证券资产管理业务      15352\n",
      "基金公司的特定客户资产管理业务    12636\n",
      "基金                  8990\n",
      "企业                  6790\n",
      "银行理财子公司理财产品         6061\n",
      "信托公司的金融产品           5889\n",
      "理财产品                5558\n",
      "境外基金管理公司非法人产品       3164\n",
      "企业年金                2883\n",
      "保险资产管理公司的资产管理产品     2397\n",
      "职业年金                1752\n",
      "境外其他资产管理机构产品        1728\n",
      "农村商业银行和合作银行         1627\n",
      "未入市主机构              1498\n",
      "期货公司资产管理产品          1349\n",
      "Name: instn_tp, dtype: int64\n",
      "15\n"
     ]
    }
   ],
   "source": [
    "import pandas as pd\n",
    "import seaborn as sns\n",
    "import json\n",
    "\n",
    "# 读取数据\n",
    "instn_base_info = pd.read_csv('rmb_hstry_actv_instn_base_info.csv')\n",
    "selected_columns = ['instn_cd', 'instn_tp', 'instn_cn_full_nm']\n",
    "result_df = instn_base_info[selected_columns]\n",
    "\n",
    "# 计算 'instn_tp' 列的数量分布\n",
    "instn_tp_distribution = result_df['instn_tp'].value_counts()\n",
    "\n",
    "# print(instn_tp_distribution)\n",
    "\n",
    "# Filter items with count greater than 100\n",
    "filtered_items = instn_tp_distribution[instn_tp_distribution > 1000]\n",
    "\n",
    "[\"#8dd3c7\",\"#ffffb3\",\"#bebada\",\"#fb8072\",\"#80b1d3\",\"#fdb462\",\"#b3de69\",\"#fccde5\",\"#d9d9d9\",\"#bc80bd\",\"#ccebc5\",\"#ffed6f\", \"#66c2a5\",\"#fc8d62\",\"#8da0cb\",\"#e78ac3\",\"#a6d854\",\"#ffd92f\",\"#e5c494\",\"#b3b3b3\"]\n",
    "\n",
    "# 设置颜色映射\n",
    "cmap = sns.color_palette(\"Paired\", len(instn_tp_distribution))\n",
    "\n",
    "# 创建字典，将机构类型和颜色对应起来\n",
    "instn_tp_color_dict = dict(zip(instn_tp_distribution.index, cmap))\n",
    "\n",
    "# 将颜色映射保存到 JSON 文件\n",
    "with open('instn_tp_color_mapping.json', 'w') as json_file:\n",
    "    json.dump(instn_tp_color_dict, json_file)\n"
   ]
  },
  {
   "cell_type": "code",
   "execution_count": 2,
   "metadata": {},
   "outputs": [],
   "source": [
    "import pandas as pd\n",
    "import seaborn as sns\n",
    "import json\n",
    "# 读取数据\n",
    "instn_base_info = pd.read_csv('rmb_hstry_actv_instn_base_info.csv')\n",
    "selected_columns = ['instn_cd', 'instn_tp', 'instn_cn_full_nm']\n",
    "result_df = instn_base_info[selected_columns]\n",
    "\n",
    "# 计算 'instn_tp' 列的数量分布\n",
    "instn_tp_distribution = result_df['instn_tp'].value_counts()\n",
    "\n",
    "# 设置颜色映射\n",
    "cmap = sns.color_palette(\"Paired\", len(instn_tp_distribution))\n",
    "\n",
    "# 将 RGB 元组转换为十六进制字符串\n",
    "hex_colors = ['#%02x%02x%02x' % (int(r * 255), int(g * 255), int(b * 255)) for r, g, b in cmap]\n",
    "\n",
    "# 创建字典，将机构类型和颜色对应起来\n",
    "instn_tp_color_dict = dict(zip(instn_tp_distribution.index, hex_colors))\n",
    "\n",
    "# 将颜色映射保存到 JSON 文件\n",
    "with open('instn_tp_color_mapping_16.json', 'w') as json_file:\n",
    "    json.dump(instn_tp_color_dict, json_file)\n"
   ]
  },
  {
   "cell_type": "code",
   "execution_count": 9,
   "metadata": {},
   "outputs": [],
   "source": [
    "import json\n",
    "import random\n",
    "\n",
    "# 读取数据\n",
    "instn_base_info = pd.read_csv('rmb_hstry_actv_instn_base_info.csv')\n",
    "selected_columns = ['instn_cd', 'instn_tp', 'instn_cn_full_nm']\n",
    "result_df = instn_base_info[selected_columns]\n",
    "\n",
    "# 计算 'instn_tp' 列的数量分布\n",
    "instn_tp_distribution = result_df['instn_tp'].value_counts()\n",
    "# Use the specified list of colors for the first 20 items\n",
    "specified_colors = [\"#8dd3c7\", \"#ffffb3\", \"#bebada\", \"#fb8072\", \"#80b1d3\", \"#fdb462\", \"#b3de69\", \"#fccde5\", \"#d9d9d9\",\n",
    "                    \"#bc80bd\", \"#ccebc5\", \"#ffed6f\", \"#66c2a5\", \"#fc8d62\", \"#8da0cb\", \"#e78ac3\", \"#a6d854\", \"#ffd92f\",\n",
    "                    \"#e5c494\", \"#b3b3b3\"]\n",
    "\n",
    "# Generate random colors for the remaining items\n",
    "remaining_colors = ['#%06x' % random.randint(0, 0xFFFFFF) for _ in range(len(instn_tp_distribution) - len(specified_colors))]\n",
    "\n",
    "# Combine the specified and random colors\n",
    "all_colors = specified_colors + remaining_colors\n",
    "\n",
    "# Convert colors to RGB format\n",
    "rgb_colors = [(int(r[1:3], 16), int(r[3:5], 16), int(r[5:7], 16)) for r in all_colors]\n",
    "\n",
    "# Create a dictionary mapping institution types to RGB colors\n",
    "instn_tp_color_dict = dict(zip(instn_tp_distribution.index, rgb_colors))\n",
    "with open('instn_tp_color_mapping.json', 'w') as json_file:\n",
    "    json.dump(instn_tp_color_dict, json_file)"
   ]
  },
  {
   "cell_type": "code",
   "execution_count": null,
   "metadata": {},
   "outputs": [],
   "source": []
  }
 ],
 "metadata": {
  "kernelspec": {
   "display_name": "Python 3",
   "language": "python",
   "name": "python3"
  },
  "language_info": {
   "codemirror_mode": {
    "name": "ipython",
    "version": 3
   },
   "file_extension": ".py",
   "mimetype": "text/x-python",
   "name": "python",
   "nbconvert_exporter": "python",
   "pygments_lexer": "ipython3",
   "version": "3.9.6"
  }
 },
 "nbformat": 4,
 "nbformat_minor": 2
}
