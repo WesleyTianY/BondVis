{
 "cells": [
  {
   "cell_type": "code",
   "execution_count": null,
   "metadata": {},
   "outputs": [],
   "source": [
    "# 长线资本\n",
    "# 230023       262\n",
    "# 230009       183\n",
    "# 2005496       23\n",
    "# 220024        22\n",
    "# 220008        19\n",
    "# 230012        18\n",
    "# 220220        17\n",
    "# 230018        16\n",
    "# 2371417       14\n",
    "# 2271329       12\n",
    "# 2305139       12\n",
    "# 2371362       11\n",
    "# 2005406       11\n",
    "# 210017        11\n",
    "# 230026         6\n",
    "# 220025         6\n",
    "# 160982         6\n",
    "# 2105470        6\n",
    "# 198196         5\n",
    "# 173702         4\n",
    "# 2305375        4\n",
    "# 230205         4\n",
    "# 2371321        4\n",
    "# 232280007      4\n",
    "# 2371025        4\n",
    "# ...\n",
    "# 2305645        1\n",
    "# 230008         1\n",
    "# 2305880        1\n",
    "\n"
   ]
  },
  {
   "cell_type": "code",
   "execution_count": 56,
   "metadata": {},
   "outputs": [
    {
     "name": "stdout",
     "output_type": "stream",
     "text": [
      "(484, 146)\n"
     ]
    }
   ],
   "source": [
    "# Display all the columns \n",
    "sql = \"\"\"\n",
    "select *\n",
    "from  dpa.cbt_dl_dtl\n",
    "where txn_dt >= '2023-10-01' and txn_dt <= '2023-12-31'\n",
    "    and (byr_instn_cn_full_nm like '%长线资本%' or slr_instn_cn_full_nm like '%长线资本%')\n",
    "    and trdng_md_cd = 'NDM'\n",
    "limit 30000\n",
    "\"\"\"\n",
    "df_trade = pg_select(sql)\n",
    "pd.set_option(\"display.max_columns\", None)\n",
    "print(df_trade.shape)"
   ]
  },
  {
   "cell_type": "code",
   "execution_count": 57,
   "metadata": {},
   "outputs": [
    {
     "data": {
      "text/plain": [
       "array(['230009', '230023', '230018', '230012', '230210', '230026',\n",
       "       '2305375', '198196', '2005496', '2371321', '2005406', '2371362',\n",
       "       '2205376', '220220', '2371417', '102300549', '2305139', '173702',\n",
       "       '2371388', '2371374', '2271329', '160982', '2371025', '2305621',\n",
       "       '2371043'], dtype=object)"
      ]
     },
     "execution_count": 57,
     "metadata": {},
     "output_type": "execute_result"
    }
   ],
   "source": [
    "df_trade['bond_cd'].unique()"
   ]
  }
 ],
 "metadata": {
  "kernelspec": {
   "display_name": "Python 3",
   "language": "python",
   "name": "python3"
  }
 },
 "nbformat": 4,
 "nbformat_minor": 4
}
